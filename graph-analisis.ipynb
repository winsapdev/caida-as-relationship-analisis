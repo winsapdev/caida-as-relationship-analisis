{
 "cells": [
  {
   "cell_type": "markdown",
   "metadata": {},
   "source": [
    "# Url Dataset\n",
    "**https://snap.stanford.edu/data/as-Caida.html**"
   ]
  },
  {
   "cell_type": "markdown",
   "metadata": {},
   "source": [
    "# Description Dataset\n",
    "The dataset contains 122 CAIDA AS graphs, from January 2004 to November 2007 - http://www.caida.org/data/active/as-relationships/.\n",
    "\n",
    "Each file contains a full AS graph derived from a set of RouteViews BGP table snapshots.\n",
    "\n",
    "Directed graph: as-caida20071105.txt\n",
    " \n",
    "The CAIDA AS Relationships Dataset, from 11 05 2007\n",
    " \n",
    "Relationships:\n",
    "- -1 (<FromNodeId> is a customer of <ToNodeId>)\n",
    "- 1 (<FromNodeId> is a provider of <ToNodeId>)\n",
    "- 0 (<FromNodeId> and <ToNodeId> are peers)\n",
    "- 2 (<FromNodeId> and <ToNodeId> are siblings (the same organization).)\n",
    "\n",
    "Nodes: 26475\n",
    "\n",
    "Edges: 106762"
   ]
  },
  {
   "cell_type": "markdown",
   "metadata": {},
   "source": [
    "load library and dataset"
   ]
  },
  {
   "cell_type": "code",
   "execution_count": 1,
   "metadata": {},
   "outputs": [
    {
     "data": {
      "text/html": [
       "<div>\n",
       "<style scoped>\n",
       "    .dataframe tbody tr th:only-of-type {\n",
       "        vertical-align: middle;\n",
       "    }\n",
       "\n",
       "    .dataframe tbody tr th {\n",
       "        vertical-align: top;\n",
       "    }\n",
       "\n",
       "    .dataframe thead th {\n",
       "        text-align: right;\n",
       "    }\n",
       "</style>\n",
       "<table border=\"1\" class=\"dataframe\">\n",
       "  <thead>\n",
       "    <tr style=\"text-align: right;\">\n",
       "      <th></th>\n",
       "      <th>from_node</th>\n",
       "      <th>to_node</th>\n",
       "      <th>relationship_code</th>\n",
       "    </tr>\n",
       "  </thead>\n",
       "  <tbody>\n",
       "    <tr>\n",
       "      <th>0</th>\n",
       "      <td>8563</td>\n",
       "      <td>3216</td>\n",
       "      <td>-1</td>\n",
       "    </tr>\n",
       "    <tr>\n",
       "      <th>1</th>\n",
       "      <td>8563</td>\n",
       "      <td>21482</td>\n",
       "      <td>1</td>\n",
       "    </tr>\n",
       "    <tr>\n",
       "      <th>2</th>\n",
       "      <td>8563</td>\n",
       "      <td>4323</td>\n",
       "      <td>-1</td>\n",
       "    </tr>\n",
       "    <tr>\n",
       "      <th>3</th>\n",
       "      <td>28801</td>\n",
       "      <td>8422</td>\n",
       "      <td>-1</td>\n",
       "    </tr>\n",
       "    <tr>\n",
       "      <th>4</th>\n",
       "      <td>28801</td>\n",
       "      <td>8220</td>\n",
       "      <td>-1</td>\n",
       "    </tr>\n",
       "    <tr>\n",
       "      <th>...</th>\n",
       "      <td>...</td>\n",
       "      <td>...</td>\n",
       "      <td>...</td>\n",
       "    </tr>\n",
       "    <tr>\n",
       "      <th>106757</th>\n",
       "      <td>27394</td>\n",
       "      <td>7018</td>\n",
       "      <td>-1</td>\n",
       "    </tr>\n",
       "    <tr>\n",
       "      <th>106758</th>\n",
       "      <td>27394</td>\n",
       "      <td>7132</td>\n",
       "      <td>-1</td>\n",
       "    </tr>\n",
       "    <tr>\n",
       "      <th>106759</th>\n",
       "      <td>21450</td>\n",
       "      <td>8551</td>\n",
       "      <td>-1</td>\n",
       "    </tr>\n",
       "    <tr>\n",
       "      <th>106760</th>\n",
       "      <td>21450</td>\n",
       "      <td>8584</td>\n",
       "      <td>-1</td>\n",
       "    </tr>\n",
       "    <tr>\n",
       "      <th>106761</th>\n",
       "      <td>21450</td>\n",
       "      <td>5486</td>\n",
       "      <td>-1</td>\n",
       "    </tr>\n",
       "  </tbody>\n",
       "</table>\n",
       "<p>106762 rows × 3 columns</p>\n",
       "</div>"
      ],
      "text/plain": [
       "        from_node  to_node  relationship_code\n",
       "0            8563     3216                 -1\n",
       "1            8563    21482                  1\n",
       "2            8563     4323                 -1\n",
       "3           28801     8422                 -1\n",
       "4           28801     8220                 -1\n",
       "...           ...      ...                ...\n",
       "106757      27394     7018                 -1\n",
       "106758      27394     7132                 -1\n",
       "106759      21450     8551                 -1\n",
       "106760      21450     8584                 -1\n",
       "106761      21450     5486                 -1\n",
       "\n",
       "[106762 rows x 3 columns]"
      ]
     },
     "execution_count": 1,
     "metadata": {},
     "output_type": "execute_result"
    }
   ],
   "source": [
    "import pandas as pd\n",
    "df = pd.read_csv('dataset/as-caida20071105.txt', sep='\\t', header=7, names=['from_node', 'to_node', 'relationship_code'])\n",
    "df"
   ]
  },
  {
   "cell_type": "markdown",
   "metadata": {},
   "source": [
    "# Total Number Of Graph In Dataset"
   ]
  },
  {
   "cell_type": "code",
   "execution_count": 14,
   "metadata": {},
   "outputs": [
    {
     "name": "stdout",
     "output_type": "stream",
     "text": [
      "Total Number Of Graph In Dataset 106762\n"
     ]
    }
   ],
   "source": [
    "print('Total Number Of Graph In Dataset {}'.format(len(df)))"
   ]
  },
  {
   "cell_type": "markdown",
   "metadata": {},
   "source": [
    "# Class Label"
   ]
  },
  {
   "cell_type": "code",
   "execution_count": 3,
   "metadata": {},
   "outputs": [
    {
     "name": "stdout",
     "output_type": "stream",
     "text": [
      "1. customer\n",
      "2. provider\n",
      "3. peer\n",
      "4. sibling\n"
     ]
    }
   ],
   "source": [
    "def get_class_label(id):\n",
    "    if id == -1:\n",
    "        return \"customer\"\n",
    "    elif id == 1:\n",
    "        return \"provider\"\n",
    "    elif id == 0:\n",
    "        return \"peer\"\n",
    "    else:\n",
    "        return \"sibling\"\n",
    "df['relationship'] = df['relationship_code'].apply(get_class_label)\n",
    "for i, label in enumerate(df.relationship.unique().tolist()):\n",
    "    print('{}. {}'.format(i+1, label))\n"
   ]
  },
  {
   "cell_type": "markdown",
   "metadata": {},
   "source": [
    "# Number Of Graph In Each Class"
   ]
  },
  {
   "cell_type": "code",
   "execution_count": 10,
   "metadata": {},
   "outputs": [
    {
     "name": "stdout",
     "output_type": "stream",
     "text": [
      "number of graph in class customer is 49180\n",
      "number of graph in class provider is 49180\n",
      "number of graph in class peer is 7952\n",
      "number of graph in class sibling is 450\n"
     ]
    }
   ],
   "source": [
    "def len_each_class(kelas):\n",
    "    for c in kelas:\n",
    "        print('number of graph in class {} is {}'.format(c, len(df[df.relationship == c])))\n",
    "\n",
    "def jml_setiap_kelas(kelas):\n",
    "    jml = []\n",
    "    for c in kelas:\n",
    "        jml.append(len(df[df.relationship == c]))\n",
    "    return jml\n",
    "        \n",
    "len_each_class(df.relationship.unique().tolist())"
   ]
  },
  {
   "cell_type": "markdown",
   "metadata": {},
   "source": [
    "# Minimun Number Of Nodes"
   ]
  },
  {
   "cell_type": "markdown",
   "metadata": {},
   "source": [
    "count unique node"
   ]
  },
  {
   "cell_type": "code",
   "execution_count": 5,
   "metadata": {},
   "outputs": [
    {
     "data": {
      "text/plain": [
       "26475"
      ]
     },
     "execution_count": 5,
     "metadata": {},
     "output_type": "execute_result"
    }
   ],
   "source": [
    "len(df.from_node.unique())"
   ]
  },
  {
   "cell_type": "code",
   "execution_count": 12,
   "metadata": {},
   "outputs": [
    {
     "data": {
      "text/plain": [
       "450"
      ]
     },
     "execution_count": 12,
     "metadata": {},
     "output_type": "execute_result"
    }
   ],
   "source": [
    "min(jml_setiap_kelas(df.relationship.unique().tolist()))"
   ]
  },
  {
   "cell_type": "markdown",
   "metadata": {},
   "source": [
    "# Maximum Number Of Nodes"
   ]
  },
  {
   "cell_type": "code",
   "execution_count": 13,
   "metadata": {},
   "outputs": [
    {
     "data": {
      "text/plain": [
       "49180"
      ]
     },
     "execution_count": 13,
     "metadata": {},
     "output_type": "execute_result"
    }
   ],
   "source": [
    "max(jml_setiap_kelas(df.relationship.unique().tolist()))"
   ]
  },
  {
   "cell_type": "code",
   "execution_count": null,
   "metadata": {},
   "outputs": [],
   "source": []
  }
 ],
 "metadata": {
  "kernelspec": {
   "display_name": "Python 3",
   "language": "python",
   "name": "python3"
  },
  "language_info": {
   "codemirror_mode": {
    "name": "ipython",
    "version": 3
   },
   "file_extension": ".py",
   "mimetype": "text/x-python",
   "name": "python",
   "nbconvert_exporter": "python",
   "pygments_lexer": "ipython3",
   "version": "3.6.8"
  },
  "toc": {
   "base_numbering": 1,
   "nav_menu": {},
   "number_sections": true,
   "sideBar": true,
   "skip_h1_title": false,
   "title_cell": "Table of Contents",
   "title_sidebar": "Contents",
   "toc_cell": false,
   "toc_position": {},
   "toc_section_display": true,
   "toc_window_display": false
  }
 },
 "nbformat": 4,
 "nbformat_minor": 2
}
